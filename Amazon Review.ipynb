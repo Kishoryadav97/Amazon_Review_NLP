{
 "cells": [
  {
   "cell_type": "code",
   "execution_count": 1,
   "id": "03fafa79",
   "metadata": {},
   "outputs": [],
   "source": [
    "import selenium\n",
    "from bs4 import BeautifulSoup\n",
    "from selenium.webdriver import Chrome\n",
    "from selenium.webdriver.common.by import By\n",
    "from selenium.webdriver.common.keys import Keys\n",
    "import pandas as pd\n",
    "import numpy as np\n",
    "import time\n",
    "import warnings\n",
    "warnings.filterwarnings('ignore')"
   ]
  },
  {
   "cell_type": "code",
   "execution_count": 2,
   "id": "1768385f",
   "metadata": {},
   "outputs": [],
   "source": [
    "driver=Chrome()\n",
    "driver.get('https://www.amazon.in/Apple-iPhone-128GB-Space-Black/product-reviews/B0BDJ22G36/ref=cm_cr_dp_d_show_all_btm?ie=UTF8&reviewerType=all_reviews')"
   ]
  },
  {
   "cell_type": "code",
   "execution_count": 3,
   "id": "b5bfd7ee",
   "metadata": {},
   "outputs": [],
   "source": [
    "content=driver.find_element(By.XPATH,'//div[@id=\"cm_cr-review_list\"]')"
   ]
  },
  {
   "cell_type": "code",
   "execution_count": 5,
   "id": "2458c390",
   "metadata": {},
   "outputs": [],
   "source": [
    "posting=content.find_elements(By.XPATH,'//div[@data-hook=\"review\"]')"
   ]
  },
  {
   "cell_type": "code",
   "execution_count": 7,
   "id": "2fa8bbbb",
   "metadata": {},
   "outputs": [],
   "source": [
    "Name=[]\n",
    "Title=[]\n",
    "Reviews=[]\n",
    "\n",
    "for i in posting:\n",
    "    name=i.find_element(By.XPATH,'.//span[@class=\"a-profile-name\"]').text\n",
    "    title=i.find_element(By.XPATH,'.//a[@data-hook=\"review-title\"]').text\n",
    "    review=i.find_element(By.XPATH,'.//span[@data-hook=\"review-body\"]').text\n",
    "    \n",
    "    Name.append(name)\n",
    "    Title.append(title)\n",
    "    Reviews.append(review)"
   ]
  },
  {
   "cell_type": "code",
   "execution_count": 8,
   "id": "44111418",
   "metadata": {},
   "outputs": [
    {
     "data": {
      "text/plain": [
       "['Wonder full .thats so pretty',\n",
       " 'Great',\n",
       " 'A smooth machine',\n",
       " 'Good and Genuine so far',\n",
       " 'Purchased this only for “Dynamic Island”',\n",
       " 'Best iPhone yet.',\n",
       " 'battery got discharged very fast in about 14-16 hours while watching videos online',\n",
       " 'Welcome to \"Dynamic Island\"',\n",
       " \"Sound quality is very very good. It's nearer to Dolby.\",\n",
       " 'Value for money']"
      ]
     },
     "execution_count": 8,
     "metadata": {},
     "output_type": "execute_result"
    }
   ],
   "source": [
    "Title"
   ]
  },
  {
   "cell_type": "code",
   "execution_count": 9,
   "id": "84cace81",
   "metadata": {},
   "outputs": [],
   "source": [
    "next_page=driver.find_element(By.XPATH,'//ul[@class=\"a-pagination\"]/li[2]').click()"
   ]
  },
  {
   "cell_type": "code",
   "execution_count": 25,
   "id": "a11f603f",
   "metadata": {},
   "outputs": [],
   "source": [
    "Name=[]\n",
    "Title=[]\n",
    "Reviews=[]\n",
    "\n",
    "current_page=1\n",
    "driver=Chrome()\n",
    "driver.get('https://www.amazon.in/Apple-iPhone-128GB-Space-Black/product-reviews/B0BDJ22G36/ref=cm_cr_dp_d_show_all_btm?ie=UTF8&reviewerType=all_reviews')\n",
    "sign_tab=driver.find_element(By.XPATH,'//*[@id=\"nav-link-accountList\"]').click()\n",
    "email=driver.find_element(By.XPATH,'//*[@id=\"ap_email\"]')\n",
    "email.send_keys('****')\n",
    "email.send_keys(Keys.ENTER)\n",
    "\n",
    "password=driver.find_element(By.XPATH,'//*[@id=\"ap_password\"]')\n",
    "password.send_keys('****')\n",
    "password.send_keys(Keys.ENTER)\n",
    "\n",
    "\n",
    "while current_page in range(1,21):\n",
    "    time.sleep(1)\n",
    "    content=driver.find_element(By.XPATH,'//div[@id=\"cm_cr-review_list\"]')\n",
    "    posting=content.find_elements(By.XPATH,'//div[@data-hook=\"review\"]')\n",
    "    \n",
    "    for i in posting:\n",
    "        name=i.find_element(By.XPATH,'.//span[@class=\"a-profile-name\"]').text\n",
    "        title=i.find_element(By.XPATH,'.//a[@data-hook=\"review-title\"]').text\n",
    "        review=i.find_element(By.XPATH,'.//span[@data-hook=\"review-body\"]').text\n",
    "\n",
    "        Name.append(name)\n",
    "        Title.append(title)\n",
    "        Reviews.append(review)\n",
    "        \n",
    "    try:\n",
    "        next_page=driver.find_element(By.XPATH,'//ul[@class=\"a-pagination\"]/li[2]').click()\n",
    "    except:\n",
    "        pass\n",
    "    \n",
    "    current_page+=1\n",
    "    \n",
    "data=pd.DataFrame({'Name':Name,'Title':Title,'Reviews':Reviews})\n",
    "\n",
    "    \n",
    "    \n",
    "    \n",
    "\n"
   ]
  },
  {
   "cell_type": "markdown",
   "id": "03af192f",
   "metadata": {},
   "source": [
    "# Text_classification"
   ]
  },
  {
   "cell_type": "code",
   "execution_count": 27,
   "id": "d3e2dabd",
   "metadata": {},
   "outputs": [],
   "source": [
    "#checking for null values and dropping them\n",
    "\n",
    "data.dropna(inplace=True)"
   ]
  },
  {
   "cell_type": "code",
   "execution_count": 40,
   "id": "d8ef3608",
   "metadata": {},
   "outputs": [
    {
     "data": {
      "text/html": [
       "<div>\n",
       "<style scoped>\n",
       "    .dataframe tbody tr th:only-of-type {\n",
       "        vertical-align: middle;\n",
       "    }\n",
       "\n",
       "    .dataframe tbody tr th {\n",
       "        vertical-align: top;\n",
       "    }\n",
       "\n",
       "    .dataframe thead th {\n",
       "        text-align: right;\n",
       "    }\n",
       "</style>\n",
       "<table border=\"1\" class=\"dataframe\">\n",
       "  <thead>\n",
       "    <tr style=\"text-align: right;\">\n",
       "      <th></th>\n",
       "      <th>Name</th>\n",
       "      <th>Title</th>\n",
       "      <th>Review</th>\n",
       "    </tr>\n",
       "  </thead>\n",
       "  <tbody>\n",
       "    <tr>\n",
       "      <th>0</th>\n",
       "      <td>jitu</td>\n",
       "      <td>Wonder full .thats so pretty</td>\n",
       "      <td>Good</td>\n",
       "    </tr>\n",
       "    <tr>\n",
       "      <th>1</th>\n",
       "      <td>Mr. M</td>\n",
       "      <td>Great</td>\n",
       "      <td>Apple hasn’t made any bones about the fact tha...</td>\n",
       "    </tr>\n",
       "    <tr>\n",
       "      <th>2</th>\n",
       "      <td>sudhanshu</td>\n",
       "      <td>A smooth machine</td>\n",
       "      <td>Loved the phone</td>\n",
       "    </tr>\n",
       "    <tr>\n",
       "      <th>3</th>\n",
       "      <td>Bhanu</td>\n",
       "      <td>Good and Genuine so far</td>\n",
       "      <td></td>\n",
       "    </tr>\n",
       "    <tr>\n",
       "      <th>4</th>\n",
       "      <td>AVI deOry</td>\n",
       "      <td>Purchased this only for “Dynamic Island”</td>\n",
       "      <td>(Pre-ordered on 10th of September, package re...</td>\n",
       "    </tr>\n",
       "    <tr>\n",
       "      <th>...</th>\n",
       "      <td>...</td>\n",
       "      <td>...</td>\n",
       "      <td>...</td>\n",
       "    </tr>\n",
       "    <tr>\n",
       "      <th>195</th>\n",
       "      <td>Himanshu Tripathi</td>\n",
       "      <td>AWESOME PHONE.</td>\n",
       "      <td>VERY NICE PHONE UNBELIEVABLE CAMERA UNBELIEVAB...</td>\n",
       "    </tr>\n",
       "    <tr>\n",
       "      <th>196</th>\n",
       "      <td>Vedmani</td>\n",
       "      <td>Badhiya hai</td>\n",
       "      <td>Camera iphone13promax se badhiya hai per itna ...</td>\n",
       "    </tr>\n",
       "    <tr>\n",
       "      <th>197</th>\n",
       "      <td>Jasim Khan</td>\n",
       "      <td>Love the Dynamic Island</td>\n",
       "      <td>Absolutely love the phone. Just to get the new...</td>\n",
       "    </tr>\n",
       "    <tr>\n",
       "      <th>198</th>\n",
       "      <td>Tarush Saxena</td>\n",
       "      <td>Good Phone overall</td>\n",
       "      <td>Amazing phone, tho ios a bit laggy-ish but oka...</td>\n",
       "    </tr>\n",
       "    <tr>\n",
       "      <th>199</th>\n",
       "      <td>Saumy Sharma</td>\n",
       "      <td>Delivery on time and Mobile is very good 😊</td>\n",
       "      <td>I like the delivery on time and this new iphon...</td>\n",
       "    </tr>\n",
       "  </tbody>\n",
       "</table>\n",
       "<p>200 rows × 3 columns</p>\n",
       "</div>"
      ],
      "text/plain": [
       "                  Name                                       Title  \\\n",
       "0                 jitu                Wonder full .thats so pretty   \n",
       "1                Mr. M                                       Great   \n",
       "2            sudhanshu                            A smooth machine   \n",
       "3                Bhanu                     Good and Genuine so far   \n",
       "4            AVI deOry    Purchased this only for “Dynamic Island”   \n",
       "..                 ...                                         ...   \n",
       "195  Himanshu Tripathi                              AWESOME PHONE.   \n",
       "196            Vedmani                                 Badhiya hai   \n",
       "197         Jasim Khan                     Love the Dynamic Island   \n",
       "198      Tarush Saxena                          Good Phone overall   \n",
       "199       Saumy Sharma  Delivery on time and Mobile is very good 😊   \n",
       "\n",
       "                                                Review  \n",
       "0                                                 Good  \n",
       "1    Apple hasn’t made any bones about the fact tha...  \n",
       "2                                      Loved the phone  \n",
       "3                                                       \n",
       "4     (Pre-ordered on 10th of September, package re...  \n",
       "..                                                 ...  \n",
       "195  VERY NICE PHONE UNBELIEVABLE CAMERA UNBELIEVAB...  \n",
       "196  Camera iphone13promax se badhiya hai per itna ...  \n",
       "197  Absolutely love the phone. Just to get the new...  \n",
       "198  Amazing phone, tho ios a bit laggy-ish but oka...  \n",
       "199  I like the delivery on time and this new iphon...  \n",
       "\n",
       "[200 rows x 3 columns]"
      ]
     },
     "execution_count": 40,
     "metadata": {},
     "output_type": "execute_result"
    }
   ],
   "source": [
    "data"
   ]
  },
  {
   "cell_type": "code",
   "execution_count": null,
   "id": "88dcfdad",
   "metadata": {},
   "outputs": [],
   "source": [
    "#checking for blanks\n",
    "\n",
    "blanks=[]\n",
    "\n",
    "for i,na,te,re in data.itertuples():  #iterate over the DataFrame\n",
    "    if type(re)==str:                 # avoid NaN values\n",
    "        if re.isspace():              # test 'review' for whitespace\n",
    "            blanks.append(i)          # add matching index numbers to the list\n",
    "print(blanks)"
   ]
  },
  {
   "cell_type": "markdown",
   "id": "549b0630",
   "metadata": {},
   "source": [
    "# Sentiment_Analysis\n",
    "\n"
   ]
  },
  {
   "cell_type": "code",
   "execution_count": 47,
   "id": "58d17a70",
   "metadata": {},
   "outputs": [],
   "source": [
    "import nltk\n",
    "from nltk.sentiment.vader import SentimentIntensityAnalyzer\n",
    "\n",
    "sid=SentimentIntensityAnalyzer()\n"
   ]
  },
  {
   "cell_type": "markdown",
   "id": "0b8be36b",
   "metadata": {},
   "source": [
    "Use sid to append a comp_score to the dataset"
   ]
  },
  {
   "cell_type": "code",
   "execution_count": 48,
   "id": "e38e5a8a",
   "metadata": {},
   "outputs": [],
   "source": [
    "#here we are appying sid.polarity_scores(review) for evry observation in the data\n",
    "data['score']=data['Review'].apply(lambda y:sid.polarity_scores(y))"
   ]
  },
  {
   "cell_type": "code",
   "execution_count": 52,
   "id": "f89ea686",
   "metadata": {},
   "outputs": [],
   "source": [
    "data['compound']=data['score'].apply(lambda y:y['compound'])"
   ]
  },
  {
   "cell_type": "code",
   "execution_count": 58,
   "id": "d7948ecb",
   "metadata": {},
   "outputs": [],
   "source": [
    "data['Label']=data['compound'].apply(lambda y:'pos' if y>=0 else 'neg')"
   ]
  },
  {
   "cell_type": "code",
   "execution_count": 59,
   "id": "01eea594",
   "metadata": {},
   "outputs": [
    {
     "data": {
      "text/html": [
       "<div>\n",
       "<style scoped>\n",
       "    .dataframe tbody tr th:only-of-type {\n",
       "        vertical-align: middle;\n",
       "    }\n",
       "\n",
       "    .dataframe tbody tr th {\n",
       "        vertical-align: top;\n",
       "    }\n",
       "\n",
       "    .dataframe thead th {\n",
       "        text-align: right;\n",
       "    }\n",
       "</style>\n",
       "<table border=\"1\" class=\"dataframe\">\n",
       "  <thead>\n",
       "    <tr style=\"text-align: right;\">\n",
       "      <th></th>\n",
       "      <th>Name</th>\n",
       "      <th>Title</th>\n",
       "      <th>Review</th>\n",
       "      <th>score</th>\n",
       "      <th>compound</th>\n",
       "      <th>Label</th>\n",
       "    </tr>\n",
       "  </thead>\n",
       "  <tbody>\n",
       "    <tr>\n",
       "      <th>0</th>\n",
       "      <td>jitu</td>\n",
       "      <td>Wonder full .thats so pretty</td>\n",
       "      <td>Good</td>\n",
       "      <td>{'neg': 0.0, 'neu': 0.0, 'pos': 1.0, 'compound...</td>\n",
       "      <td>0.4404</td>\n",
       "      <td>pos</td>\n",
       "    </tr>\n",
       "    <tr>\n",
       "      <th>1</th>\n",
       "      <td>Mr. M</td>\n",
       "      <td>Great</td>\n",
       "      <td>Apple hasn’t made any bones about the fact tha...</td>\n",
       "      <td>{'neg': 0.023, 'neu': 0.806, 'pos': 0.17, 'com...</td>\n",
       "      <td>0.9999</td>\n",
       "      <td>pos</td>\n",
       "    </tr>\n",
       "    <tr>\n",
       "      <th>2</th>\n",
       "      <td>sudhanshu</td>\n",
       "      <td>A smooth machine</td>\n",
       "      <td>Loved the phone</td>\n",
       "      <td>{'neg': 0.0, 'neu': 0.339, 'pos': 0.661, 'comp...</td>\n",
       "      <td>0.5994</td>\n",
       "      <td>pos</td>\n",
       "    </tr>\n",
       "    <tr>\n",
       "      <th>3</th>\n",
       "      <td>Bhanu</td>\n",
       "      <td>Good and Genuine so far</td>\n",
       "      <td></td>\n",
       "      <td>{'neg': 0.0, 'neu': 0.0, 'pos': 0.0, 'compound...</td>\n",
       "      <td>0.0000</td>\n",
       "      <td>pos</td>\n",
       "    </tr>\n",
       "    <tr>\n",
       "      <th>4</th>\n",
       "      <td>AVI deOry</td>\n",
       "      <td>Purchased this only for “Dynamic Island”</td>\n",
       "      <td>(Pre-ordered on 10th of September, package re...</td>\n",
       "      <td>{'neg': 0.043, 'neu': 0.841, 'pos': 0.116, 'co...</td>\n",
       "      <td>0.8706</td>\n",
       "      <td>pos</td>\n",
       "    </tr>\n",
       "    <tr>\n",
       "      <th>...</th>\n",
       "      <td>...</td>\n",
       "      <td>...</td>\n",
       "      <td>...</td>\n",
       "      <td>...</td>\n",
       "      <td>...</td>\n",
       "      <td>...</td>\n",
       "    </tr>\n",
       "    <tr>\n",
       "      <th>195</th>\n",
       "      <td>Himanshu Tripathi</td>\n",
       "      <td>AWESOME PHONE.</td>\n",
       "      <td>VERY NICE PHONE UNBELIEVABLE CAMERA UNBELIEVAB...</td>\n",
       "      <td>{'neg': 0.0, 'neu': 0.689, 'pos': 0.311, 'comp...</td>\n",
       "      <td>0.7368</td>\n",
       "      <td>pos</td>\n",
       "    </tr>\n",
       "    <tr>\n",
       "      <th>196</th>\n",
       "      <td>Vedmani</td>\n",
       "      <td>Badhiya hai</td>\n",
       "      <td>Camera iphone13promax se badhiya hai per itna ...</td>\n",
       "      <td>{'neg': 0.016, 'neu': 0.862, 'pos': 0.122, 'co...</td>\n",
       "      <td>0.9659</td>\n",
       "      <td>pos</td>\n",
       "    </tr>\n",
       "    <tr>\n",
       "      <th>197</th>\n",
       "      <td>Jasim Khan</td>\n",
       "      <td>Love the Dynamic Island</td>\n",
       "      <td>Absolutely love the phone. Just to get the new...</td>\n",
       "      <td>{'neg': 0.062, 'neu': 0.653, 'pos': 0.285, 'co...</td>\n",
       "      <td>0.8901</td>\n",
       "      <td>pos</td>\n",
       "    </tr>\n",
       "    <tr>\n",
       "      <th>198</th>\n",
       "      <td>Tarush Saxena</td>\n",
       "      <td>Good Phone overall</td>\n",
       "      <td>Amazing phone, tho ios a bit laggy-ish but oka...</td>\n",
       "      <td>{'neg': 0.0, 'neu': 0.635, 'pos': 0.365, 'comp...</td>\n",
       "      <td>0.9371</td>\n",
       "      <td>pos</td>\n",
       "    </tr>\n",
       "    <tr>\n",
       "      <th>199</th>\n",
       "      <td>Saumy Sharma</td>\n",
       "      <td>Delivery on time and Mobile is very good 😊</td>\n",
       "      <td>I like the delivery on time and this new iphon...</td>\n",
       "      <td>{'neg': 0.0, 'neu': 0.794, 'pos': 0.206, 'comp...</td>\n",
       "      <td>0.9206</td>\n",
       "      <td>pos</td>\n",
       "    </tr>\n",
       "  </tbody>\n",
       "</table>\n",
       "<p>200 rows × 6 columns</p>\n",
       "</div>"
      ],
      "text/plain": [
       "                  Name                                       Title  \\\n",
       "0                 jitu                Wonder full .thats so pretty   \n",
       "1                Mr. M                                       Great   \n",
       "2            sudhanshu                            A smooth machine   \n",
       "3                Bhanu                     Good and Genuine so far   \n",
       "4            AVI deOry    Purchased this only for “Dynamic Island”   \n",
       "..                 ...                                         ...   \n",
       "195  Himanshu Tripathi                              AWESOME PHONE.   \n",
       "196            Vedmani                                 Badhiya hai   \n",
       "197         Jasim Khan                     Love the Dynamic Island   \n",
       "198      Tarush Saxena                          Good Phone overall   \n",
       "199       Saumy Sharma  Delivery on time and Mobile is very good 😊   \n",
       "\n",
       "                                                Review  \\\n",
       "0                                                 Good   \n",
       "1    Apple hasn’t made any bones about the fact tha...   \n",
       "2                                      Loved the phone   \n",
       "3                                                        \n",
       "4     (Pre-ordered on 10th of September, package re...   \n",
       "..                                                 ...   \n",
       "195  VERY NICE PHONE UNBELIEVABLE CAMERA UNBELIEVAB...   \n",
       "196  Camera iphone13promax se badhiya hai per itna ...   \n",
       "197  Absolutely love the phone. Just to get the new...   \n",
       "198  Amazing phone, tho ios a bit laggy-ish but oka...   \n",
       "199  I like the delivery on time and this new iphon...   \n",
       "\n",
       "                                                 score  compound Label  \n",
       "0    {'neg': 0.0, 'neu': 0.0, 'pos': 1.0, 'compound...    0.4404   pos  \n",
       "1    {'neg': 0.023, 'neu': 0.806, 'pos': 0.17, 'com...    0.9999   pos  \n",
       "2    {'neg': 0.0, 'neu': 0.339, 'pos': 0.661, 'comp...    0.5994   pos  \n",
       "3    {'neg': 0.0, 'neu': 0.0, 'pos': 0.0, 'compound...    0.0000   pos  \n",
       "4    {'neg': 0.043, 'neu': 0.841, 'pos': 0.116, 'co...    0.8706   pos  \n",
       "..                                                 ...       ...   ...  \n",
       "195  {'neg': 0.0, 'neu': 0.689, 'pos': 0.311, 'comp...    0.7368   pos  \n",
       "196  {'neg': 0.016, 'neu': 0.862, 'pos': 0.122, 'co...    0.9659   pos  \n",
       "197  {'neg': 0.062, 'neu': 0.653, 'pos': 0.285, 'co...    0.8901   pos  \n",
       "198  {'neg': 0.0, 'neu': 0.635, 'pos': 0.365, 'comp...    0.9371   pos  \n",
       "199  {'neg': 0.0, 'neu': 0.794, 'pos': 0.206, 'comp...    0.9206   pos  \n",
       "\n",
       "[200 rows x 6 columns]"
      ]
     },
     "execution_count": 59,
     "metadata": {},
     "output_type": "execute_result"
    }
   ],
   "source": [
    "data"
   ]
  },
  {
   "cell_type": "markdown",
   "id": "98d5d8cb",
   "metadata": {},
   "source": [
    "# Topic Modelling"
   ]
  },
  {
   "cell_type": "code",
   "execution_count": 61,
   "id": "a01289f8",
   "metadata": {},
   "outputs": [],
   "source": [
    "from sklearn.feature_extraction.text import TfidfVectorizer\n",
    "from sklearn.decomposition import LatentDirichletAllocation\n",
    "tfidf=TfidfVectorizer(max_df=.95,min_df=2,stop_words='english')"
   ]
  },
  {
   "cell_type": "code",
   "execution_count": 62,
   "id": "eff7dc03",
   "metadata": {},
   "outputs": [],
   "source": [
    "dtm=tfidf.fit_transform(data['Review'])"
   ]
  },
  {
   "cell_type": "code",
   "execution_count": 63,
   "id": "717ae5d2",
   "metadata": {},
   "outputs": [
    {
     "data": {
      "text/plain": [
       "<200x460 sparse matrix of type '<class 'numpy.float64'>'\n",
       "\twith 5970 stored elements in Compressed Sparse Row format>"
      ]
     },
     "execution_count": 63,
     "metadata": {},
     "output_type": "execute_result"
    }
   ],
   "source": [
    "dtm"
   ]
  },
  {
   "cell_type": "code",
   "execution_count": 64,
   "id": "a046776c",
   "metadata": {},
   "outputs": [],
   "source": [
    "LDA=LatentDirichletAllocation(n_components=7,random_state=42)"
   ]
  },
  {
   "cell_type": "code",
   "execution_count": 65,
   "id": "9b22255d",
   "metadata": {},
   "outputs": [
    {
     "data": {
      "text/plain": [
       "LatentDirichletAllocation(n_components=7, random_state=42)"
      ]
     },
     "execution_count": 65,
     "metadata": {},
     "output_type": "execute_result"
    }
   ],
   "source": [
    "LDA.fit(dtm)"
   ]
  },
  {
   "cell_type": "code",
   "execution_count": 66,
   "id": "72ae0521",
   "metadata": {},
   "outputs": [
    {
     "name": "stdout",
     "output_type": "stream",
     "text": [
      "THE TOP 10 WORDS FOR TOPIC #0\n",
      "['night', 'phone', 'price', 'buy', 'cool', 'bye', 'simple', 'don', 'money', 'waste']\n",
      "\n",
      "\n",
      "THE TOP 10 WORDS FOR TOPIC #1\n",
      "['ios', 'pro', 'awesome', 'amazing', 'best', 'phone', 'iphone', 'max', 'absolutely', 'bit']\n",
      "\n",
      "\n",
      "THE TOP 10 WORDS FOR TOPIC #2\n",
      "['mobile', 'totally', 'good', 'device', 'nice', 'improved', 'phone', 'iphone', 'unbelievable', 'features']\n",
      "\n",
      "\n",
      "THE TOP 10 WORDS FOR TOPIC #3\n",
      "['amazon', 'works', 'charge', 'good', 'days', 'camera', 'obviously', 'got', 'bought', 'apple']\n",
      "\n",
      "\n",
      "THE TOP 10 WORDS FOR TOPIC #4\n",
      "['upgrade', 'excellent', 'doesn', 'round', 'consider', 'chin', 'watching', 'youtube', 'good', '13']\n",
      "\n",
      "\n",
      "THE TOP 10 WORDS FOR TOPIC #5\n",
      "['13', 'hua', 'badhiya', 'mode', 'se', 'upgrade', 'heavy', 'nhi', 'hai', 'pro']\n",
      "\n",
      "\n",
      "THE TOP 10 WORDS FOR TOPIC #6\n",
      "['best', 'life', 'huge', 'power', 'level', 'bionic', 'a16', 'smoother', 'godly', 'loved']\n",
      "\n",
      "\n"
     ]
    }
   ],
   "source": [
    "for index,topic in enumerate(LDA.components_):\n",
    "    print(f'THE TOP 10 WORDS FOR TOPIC #{index}')\n",
    "    print([tfidf.get_feature_names_out()[i] for i in topic.argsort()[-10:]])\n",
    "    print('\\n')"
   ]
  },
  {
   "cell_type": "code",
   "execution_count": 67,
   "id": "e90c3184",
   "metadata": {},
   "outputs": [],
   "source": [
    "topic_results=LDA.transform(dtm)"
   ]
  },
  {
   "cell_type": "code",
   "execution_count": 68,
   "id": "8cf24747",
   "metadata": {},
   "outputs": [],
   "source": [
    "data['Topic']=topic_results.argmax(axis=1)"
   ]
  },
  {
   "cell_type": "code",
   "execution_count": 69,
   "id": "0dc77527",
   "metadata": {},
   "outputs": [
    {
     "data": {
      "text/html": [
       "<div>\n",
       "<style scoped>\n",
       "    .dataframe tbody tr th:only-of-type {\n",
       "        vertical-align: middle;\n",
       "    }\n",
       "\n",
       "    .dataframe tbody tr th {\n",
       "        vertical-align: top;\n",
       "    }\n",
       "\n",
       "    .dataframe thead th {\n",
       "        text-align: right;\n",
       "    }\n",
       "</style>\n",
       "<table border=\"1\" class=\"dataframe\">\n",
       "  <thead>\n",
       "    <tr style=\"text-align: right;\">\n",
       "      <th></th>\n",
       "      <th>Name</th>\n",
       "      <th>Title</th>\n",
       "      <th>Review</th>\n",
       "      <th>score</th>\n",
       "      <th>compound</th>\n",
       "      <th>Label</th>\n",
       "      <th>Topic</th>\n",
       "    </tr>\n",
       "  </thead>\n",
       "  <tbody>\n",
       "    <tr>\n",
       "      <th>0</th>\n",
       "      <td>jitu</td>\n",
       "      <td>Wonder full .thats so pretty</td>\n",
       "      <td>Good</td>\n",
       "      <td>{'neg': 0.0, 'neu': 0.0, 'pos': 1.0, 'compound...</td>\n",
       "      <td>0.4404</td>\n",
       "      <td>pos</td>\n",
       "      <td>4</td>\n",
       "    </tr>\n",
       "    <tr>\n",
       "      <th>1</th>\n",
       "      <td>Mr. M</td>\n",
       "      <td>Great</td>\n",
       "      <td>Apple hasn’t made any bones about the fact tha...</td>\n",
       "      <td>{'neg': 0.023, 'neu': 0.806, 'pos': 0.17, 'com...</td>\n",
       "      <td>0.9999</td>\n",
       "      <td>pos</td>\n",
       "      <td>1</td>\n",
       "    </tr>\n",
       "    <tr>\n",
       "      <th>2</th>\n",
       "      <td>sudhanshu</td>\n",
       "      <td>A smooth machine</td>\n",
       "      <td>Loved the phone</td>\n",
       "      <td>{'neg': 0.0, 'neu': 0.339, 'pos': 0.661, 'comp...</td>\n",
       "      <td>0.5994</td>\n",
       "      <td>pos</td>\n",
       "      <td>6</td>\n",
       "    </tr>\n",
       "    <tr>\n",
       "      <th>3</th>\n",
       "      <td>Bhanu</td>\n",
       "      <td>Good and Genuine so far</td>\n",
       "      <td></td>\n",
       "      <td>{'neg': 0.0, 'neu': 0.0, 'pos': 0.0, 'compound...</td>\n",
       "      <td>0.0000</td>\n",
       "      <td>pos</td>\n",
       "      <td>0</td>\n",
       "    </tr>\n",
       "    <tr>\n",
       "      <th>4</th>\n",
       "      <td>AVI deOry</td>\n",
       "      <td>Purchased this only for “Dynamic Island”</td>\n",
       "      <td>(Pre-ordered on 10th of September, package re...</td>\n",
       "      <td>{'neg': 0.043, 'neu': 0.841, 'pos': 0.116, 'co...</td>\n",
       "      <td>0.8706</td>\n",
       "      <td>pos</td>\n",
       "      <td>1</td>\n",
       "    </tr>\n",
       "    <tr>\n",
       "      <th>...</th>\n",
       "      <td>...</td>\n",
       "      <td>...</td>\n",
       "      <td>...</td>\n",
       "      <td>...</td>\n",
       "      <td>...</td>\n",
       "      <td>...</td>\n",
       "      <td>...</td>\n",
       "    </tr>\n",
       "    <tr>\n",
       "      <th>195</th>\n",
       "      <td>Himanshu Tripathi</td>\n",
       "      <td>AWESOME PHONE.</td>\n",
       "      <td>VERY NICE PHONE UNBELIEVABLE CAMERA UNBELIEVAB...</td>\n",
       "      <td>{'neg': 0.0, 'neu': 0.689, 'pos': 0.311, 'comp...</td>\n",
       "      <td>0.7368</td>\n",
       "      <td>pos</td>\n",
       "      <td>2</td>\n",
       "    </tr>\n",
       "    <tr>\n",
       "      <th>196</th>\n",
       "      <td>Vedmani</td>\n",
       "      <td>Badhiya hai</td>\n",
       "      <td>Camera iphone13promax se badhiya hai per itna ...</td>\n",
       "      <td>{'neg': 0.016, 'neu': 0.862, 'pos': 0.122, 'co...</td>\n",
       "      <td>0.9659</td>\n",
       "      <td>pos</td>\n",
       "      <td>5</td>\n",
       "    </tr>\n",
       "    <tr>\n",
       "      <th>197</th>\n",
       "      <td>Jasim Khan</td>\n",
       "      <td>Love the Dynamic Island</td>\n",
       "      <td>Absolutely love the phone. Just to get the new...</td>\n",
       "      <td>{'neg': 0.062, 'neu': 0.653, 'pos': 0.285, 'co...</td>\n",
       "      <td>0.8901</td>\n",
       "      <td>pos</td>\n",
       "      <td>1</td>\n",
       "    </tr>\n",
       "    <tr>\n",
       "      <th>198</th>\n",
       "      <td>Tarush Saxena</td>\n",
       "      <td>Good Phone overall</td>\n",
       "      <td>Amazing phone, tho ios a bit laggy-ish but oka...</td>\n",
       "      <td>{'neg': 0.0, 'neu': 0.635, 'pos': 0.365, 'comp...</td>\n",
       "      <td>0.9371</td>\n",
       "      <td>pos</td>\n",
       "      <td>1</td>\n",
       "    </tr>\n",
       "    <tr>\n",
       "      <th>199</th>\n",
       "      <td>Saumy Sharma</td>\n",
       "      <td>Delivery on time and Mobile is very good 😊</td>\n",
       "      <td>I like the delivery on time and this new iphon...</td>\n",
       "      <td>{'neg': 0.0, 'neu': 0.794, 'pos': 0.206, 'comp...</td>\n",
       "      <td>0.9206</td>\n",
       "      <td>pos</td>\n",
       "      <td>2</td>\n",
       "    </tr>\n",
       "  </tbody>\n",
       "</table>\n",
       "<p>200 rows × 7 columns</p>\n",
       "</div>"
      ],
      "text/plain": [
       "                  Name                                       Title  \\\n",
       "0                 jitu                Wonder full .thats so pretty   \n",
       "1                Mr. M                                       Great   \n",
       "2            sudhanshu                            A smooth machine   \n",
       "3                Bhanu                     Good and Genuine so far   \n",
       "4            AVI deOry    Purchased this only for “Dynamic Island”   \n",
       "..                 ...                                         ...   \n",
       "195  Himanshu Tripathi                              AWESOME PHONE.   \n",
       "196            Vedmani                                 Badhiya hai   \n",
       "197         Jasim Khan                     Love the Dynamic Island   \n",
       "198      Tarush Saxena                          Good Phone overall   \n",
       "199       Saumy Sharma  Delivery on time and Mobile is very good 😊   \n",
       "\n",
       "                                                Review  \\\n",
       "0                                                 Good   \n",
       "1    Apple hasn’t made any bones about the fact tha...   \n",
       "2                                      Loved the phone   \n",
       "3                                                        \n",
       "4     (Pre-ordered on 10th of September, package re...   \n",
       "..                                                 ...   \n",
       "195  VERY NICE PHONE UNBELIEVABLE CAMERA UNBELIEVAB...   \n",
       "196  Camera iphone13promax se badhiya hai per itna ...   \n",
       "197  Absolutely love the phone. Just to get the new...   \n",
       "198  Amazing phone, tho ios a bit laggy-ish but oka...   \n",
       "199  I like the delivery on time and this new iphon...   \n",
       "\n",
       "                                                 score  compound Label  Topic  \n",
       "0    {'neg': 0.0, 'neu': 0.0, 'pos': 1.0, 'compound...    0.4404   pos      4  \n",
       "1    {'neg': 0.023, 'neu': 0.806, 'pos': 0.17, 'com...    0.9999   pos      1  \n",
       "2    {'neg': 0.0, 'neu': 0.339, 'pos': 0.661, 'comp...    0.5994   pos      6  \n",
       "3    {'neg': 0.0, 'neu': 0.0, 'pos': 0.0, 'compound...    0.0000   pos      0  \n",
       "4    {'neg': 0.043, 'neu': 0.841, 'pos': 0.116, 'co...    0.8706   pos      1  \n",
       "..                                                 ...       ...   ...    ...  \n",
       "195  {'neg': 0.0, 'neu': 0.689, 'pos': 0.311, 'comp...    0.7368   pos      2  \n",
       "196  {'neg': 0.016, 'neu': 0.862, 'pos': 0.122, 'co...    0.9659   pos      5  \n",
       "197  {'neg': 0.062, 'neu': 0.653, 'pos': 0.285, 'co...    0.8901   pos      1  \n",
       "198  {'neg': 0.0, 'neu': 0.635, 'pos': 0.365, 'comp...    0.9371   pos      1  \n",
       "199  {'neg': 0.0, 'neu': 0.794, 'pos': 0.206, 'comp...    0.9206   pos      2  \n",
       "\n",
       "[200 rows x 7 columns]"
      ]
     },
     "execution_count": 69,
     "metadata": {},
     "output_type": "execute_result"
    }
   ],
   "source": [
    "data"
   ]
  },
  {
   "cell_type": "markdown",
   "id": "ea572933",
   "metadata": {},
   "source": [
    "# Text Classification"
   ]
  },
  {
   "cell_type": "code",
   "execution_count": 70,
   "id": "e4b8d820",
   "metadata": {},
   "outputs": [],
   "source": [
    "from sklearn.model_selection import train_test_split\n",
    "X=data['Review']\n",
    "Y=data['Label']\n",
    "\n",
    "x_train,x_test,y_train,y_test=train_test_split(X,Y,test_size=.30,random_state=42)"
   ]
  },
  {
   "cell_type": "code",
   "execution_count": 71,
   "id": "0ddd1acf",
   "metadata": {},
   "outputs": [],
   "source": [
    "from sklearn.pipeline import Pipeline\n",
    "from sklearn.feature_extraction.text import TfidfVectorizer\n",
    "from sklearn.naive_bayes import MultinomialNB\n",
    "\n",
    "text_clf=Pipeline([('tfidf',TfidfVectorizer()),\n",
    "                  ('clf',MultinomialNB())])"
   ]
  },
  {
   "cell_type": "code",
   "execution_count": 72,
   "id": "b37ea96c",
   "metadata": {},
   "outputs": [
    {
     "data": {
      "text/plain": [
       "Pipeline(steps=[('tfidf', TfidfVectorizer()), ('clf', MultinomialNB())])"
      ]
     },
     "execution_count": 72,
     "metadata": {},
     "output_type": "execute_result"
    }
   ],
   "source": [
    "text_clf.fit(x_train,y_train)"
   ]
  },
  {
   "cell_type": "code",
   "execution_count": 73,
   "id": "dbb80593",
   "metadata": {},
   "outputs": [],
   "source": [
    "predict=text_clf.predict(x_test)"
   ]
  },
  {
   "cell_type": "code",
   "execution_count": 74,
   "id": "0ff2a521",
   "metadata": {},
   "outputs": [
    {
     "name": "stdout",
     "output_type": "stream",
     "text": [
      "              precision    recall  f1-score   support\n",
      "\n",
      "         neg       1.00      0.55      0.71        11\n",
      "         pos       0.91      1.00      0.95        49\n",
      "\n",
      "    accuracy                           0.92        60\n",
      "   macro avg       0.95      0.77      0.83        60\n",
      "weighted avg       0.92      0.92      0.91        60\n",
      "\n"
     ]
    }
   ],
   "source": [
    "from sklearn.metrics import classification_report\n",
    "print(classification_report(y_test,predict))"
   ]
  },
  {
   "cell_type": "code",
   "execution_count": null,
   "id": "f25584ab",
   "metadata": {},
   "outputs": [],
   "source": []
  }
 ],
 "metadata": {
  "kernelspec": {
   "display_name": "Python 3 (ipykernel)",
   "language": "python",
   "name": "python3"
  },
  "language_info": {
   "codemirror_mode": {
    "name": "ipython",
    "version": 3
   },
   "file_extension": ".py",
   "mimetype": "text/x-python",
   "name": "python",
   "nbconvert_exporter": "python",
   "pygments_lexer": "ipython3",
   "version": "3.9.13"
  }
 },
 "nbformat": 4,
 "nbformat_minor": 5
}
